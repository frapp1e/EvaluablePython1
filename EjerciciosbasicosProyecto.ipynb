{
  "nbformat": 4,
  "nbformat_minor": 0,
  "metadata": {
    "colab": {
      "provenance": [],
      "authorship_tag": "ABX9TyN/gMkxkfQlLaxcd5eFdmEm",
      "include_colab_link": true
    },
    "kernelspec": {
      "name": "python3",
      "display_name": "Python 3"
    },
    "language_info": {
      "name": "python"
    }
  },
  "cells": [
    {
      "cell_type": "markdown",
      "metadata": {
        "id": "view-in-github",
        "colab_type": "text"
      },
      "source": [
        "<a href=\"https://colab.research.google.com/github/frapp1e/EvaluablePython1/blob/main/EjerciciosbasicosProyecto.ipynb\" target=\"_parent\"><img src=\"https://colab.research.google.com/assets/colab-badge.svg\" alt=\"Open In Colab\"/></a>"
      ]
    },
    {
      "cell_type": "markdown",
      "source": [
        "Exercici 1:\n",
        "\n",
        "Crear una llista de 5 elements ( 5 fruites per exemple):\n",
        "\n",
        "Prova accedir a elements de les teves llistes\n",
        "Mostra el segon element\n",
        "accedeix també a l'element d'índex -1\n",
        "mostra els tres primers elements\n",
        "Mostra els 4 últims elements\n",
        "Modifica un element de la teva llista\n",
        "Afegeix un element en la posició 2 i després afegeix una nova llista de tres elements\n",
        "Elimina l'últim element, extreu i guarda en una nova variable el primer element."
      ],
      "metadata": {
        "id": "4MGHbSTvcCFr"
      }
    },
    {
      "cell_type": "markdown",
      "source": [
        "EJERCICIO 1\n",
        "CREA UNA FUNCION QUE TE PASE UN NUMERO INDEFINDO DE PARAMETROY TE DEVUELVA EL RESULTADO DE MULTIPLICARLOS\n"
      ],
      "metadata": {
        "id": "wQHqBXxPgcrL"
      }
    },
    {
      "cell_type": "code",
      "source": [
        "def multiplicador(*parametros):\n",
        "  resultado=1\n",
        "  for parametro in parametros:\n",
        "    resultado= resultado * parametro\n",
        "    return resultado\n",
        "  print(multiplicador(3,5,6))\n"
      ],
      "metadata": {
        "id": "U80k-w00gmWo"
      },
      "execution_count": null,
      "outputs": []
    },
    {
      "cell_type": "code",
      "source": [
        "Pokemon = ['charmander', 'squirtle', 'bulbasaur', 'beldum', 'woolo']\n",
        "print(Pokemon[2])\n",
        "print(Pokemon[1])\n",
        "print(Pokemon[-1])\n",
        "print(Pokemon[:3])\n",
        "print(Pokemon[1:5])\n",
        "Pokemon[1] = 'totodile'\n",
        "print(Pokemon)\n",
        "Pokemon.insert(2,'chikorita')\n",
        "Pokemon2=['doduo','torterra', 'chimchar']\n",
        "Pokemon.append(Pokemon2)\n",
        "print(Pokemon)\n",
        "\n",
        "Pokemon.pop()\n",
        "PrimerElemento = Pokemon.pop(0)\n",
        "print(\"elemento eliminado y guardado en variable: \",PrimerElemento)\n",
        "print(\"Lista modificada: \",Pokemon)\n",
        "\n",
        "\n"
      ],
      "metadata": {
        "colab": {
          "base_uri": "https://localhost:8080/"
        },
        "id": "RB_FTM1icK0j",
        "outputId": "c0c2efff-04cc-4d99-e693-b48a04f4e5f1"
      },
      "execution_count": null,
      "outputs": [
        {
          "output_type": "stream",
          "name": "stdout",
          "text": [
            "bulbasaur\n",
            "squirtle\n",
            "woolo\n",
            "['charmander', 'squirtle', 'bulbasaur']\n",
            "['squirtle', 'bulbasaur', 'beldum', 'woolo']\n",
            "['charmander', 'totodile', 'bulbasaur', 'beldum', 'woolo']\n",
            "['charmander', 'totodile', 'chikorita', 'bulbasaur', 'beldum', 'woolo', ['doduo', 'torterra', 'chimchar']]\n",
            "elemento eliminado y guardado en variable:  charmander\n",
            "Lista modificada:  ['totodile', 'chikorita', 'bulbasaur', 'beldum', 'woolo']\n"
          ]
        }
      ]
    },
    {
      "cell_type": "markdown",
      "source": [
        "EJERCICIO 2:Escriviu un programa en què es defineixin els preus d'una fruiteria utilitzant un diccionari. Heu d'incloure, com a mínim, 5 tipus de fruita diferents. Per cada fruita, caldrà indicar el preu per kilo.\n",
        "\n",
        "Per exemple: Maduixes de Huelva amb preu 5.9, Maduixes del Maresme amb preu 10, Poma amb preu 3.5, etc.\n",
        "\n",
        "Mostreu el preu per kilo de qualsevol de les fruites que heu inclòs al diccionari, utilitzant algun del mètodes d'accès a elements d'un diccionari.\n",
        "\n",
        "Posteriorment afegeix el nou element Pera amb preu 3.4, elimina l'element Maduixes del Maresme i Maduixes de Huelva i crea'n un que sigui maduixa amb el preu que sigui la mitja dels dos anteriors.\n"
      ],
      "metadata": {
        "id": "K3nIumXur3Ns"
      }
    },
    {
      "cell_type": "code",
      "source": [
        "Frutas = {\n",
        "    \"Fresas\": 4.9,\n",
        "    \"Frambuesas\": 10.8,\n",
        "    \"Platanos\": 2.4,\n",
        "    \"Manzanas\": 3.3,\n",
        "    \"Peras\": 3.8,\n",
        "}\n",
        "\n",
        "x= Frutas[\"Platanos\"]\n",
        "print(x);\n",
        "\n",
        "Frutas[\"piña\"]=5.9\n",
        "Frutas.pop(\"Fresas\")\n",
        "Frutas.pop(\"Peras\")\n",
        "\n",
        "print(Frutas)"
      ],
      "metadata": {
        "colab": {
          "base_uri": "https://localhost:8080/"
        },
        "id": "d9q0kOPmsq-s",
        "outputId": "9eb51368-3bc7-4486-ac04-d3419d3b7e65"
      },
      "execution_count": null,
      "outputs": [
        {
          "output_type": "stream",
          "name": "stdout",
          "text": [
            "2.4\n",
            "{'Frambuesas': 10.8, 'Platanos': 2.4, 'Manzanas': 3.3, 'piña': 5.9}\n"
          ]
        }
      ]
    },
    {
      "cell_type": "markdown",
      "source": [
        "\n",
        "        \"Suposem que tens $100, els quals inverteixes per rebre un 10% anual. Realitza el codi que et calcula quans diners tindras 7 anys més tard.\""
      ],
      "metadata": {
        "id": "oY28io6Sx82P"
      }
    },
    {
      "cell_type": "code",
      "source": [
        "DineroActual= 100\n",
        "DineroGenerado= DineroActual*0.10\n",
        "DineroFuturo= DineroGenerado*7\n",
        "\n",
        "print(DineroFuturo)"
      ],
      "metadata": {
        "colab": {
          "base_uri": "https://localhost:8080/"
        },
        "id": "NZHMIShUx1Jq",
        "outputId": "92db330e-37e2-4523-e806-e92588778601"
      },
      "execution_count": null,
      "outputs": [
        {
          "output_type": "stream",
          "name": "stdout",
          "text": [
            "70.0\n"
          ]
        }
      ]
    }
  ]
}